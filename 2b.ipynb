{
 "cells": [
  {
   "cell_type": "markdown",
   "metadata": {
    "collapsed": true
   },
   "source": [
    "# Session 2 Assignment B\n",
    "### Step 0: Read Input and Output"
   ]
  },
  {
   "cell_type": "code",
   "execution_count": 43,
   "metadata": {
    "collapsed": true
   },
   "outputs": [],
   "source": [
    "import numpy as np\n",
    "x = [[1,0,1,0],[1,0,1,1],[0,1,0,1]]\n",
    "y = ([1],[1],[0])\n",
    "\n",
    "# Converting list to numpy array\n",
    "\n",
    "x = np.array(x)\n",
    "y = np.array(y)"
   ]
  },
  {
   "cell_type": "markdown",
   "metadata": {},
   "source": [
    "### Step 1: Initialize weights and biases with random values \n",
    "(There are methods to initialize weights and biases but for now initialize with random values)"
   ]
  },
  {
   "cell_type": "code",
   "execution_count": 44,
   "metadata": {},
   "outputs": [
    {
     "name": "stdout",
     "output_type": "stream",
     "text": [
      "\n",
      " [[ 0.89697962  0.19567117  0.13627549]\n",
      " [ 0.64979427  0.2119181   0.87490872]\n",
      " [ 0.41861207  0.69023298  0.50828092]\n",
      " [ 0.03300463  0.17206479  0.33577203]]\n",
      "\n",
      " [[ 0.60773136  0.06845338  0.63357769]]\n",
      "\n",
      " [[ 0.40871202]\n",
      " [ 0.23459474]\n",
      " [ 0.427355  ]]\n",
      "\n",
      " [[ 0.21965703]]\n"
     ]
    }
   ],
   "source": [
    "#wh = [[.78,.65,.23],[.87,.56,.32],[.19,.48,.92],[.66,.71,.29]]\n",
    "#bh = [[.36,.72,.02]]\n",
    "#wout = [[.39],[.47],[.23]]\n",
    "#bout=[.54]\n",
    "\n",
    "# Converting list to numpy array\n",
    "\n",
    "#wh = np.array(wh)\n",
    "#bh = np.array(bh)\n",
    "#wout = np.array(wout)\n",
    "#bout = np.array(bout)\n",
    "\n",
    "#Using random function to generate values\n",
    "wh = np.random.random_sample([4,3])\n",
    "bh = np.random.random_sample([1,3])\n",
    "wout = np.random.random_sample([3,1])\n",
    "bout = np.random.random_sample([1,1])\n",
    "\n",
    "\n",
    "print(\"\\n\",wh)\n",
    "print(\"\\n\", bh)\n",
    "\n",
    "print(\"\\n\", wout)\n",
    "print(\"\\n\", bout)\n"
   ]
  },
  {
   "cell_type": "markdown",
   "metadata": {},
   "source": [
    "### Step 2: Calculate hidden layer input:\n",
    "\n",
    " hidden_layer_input = matrix_dot_product(X,wh) + bh"
   ]
  },
  {
   "cell_type": "code",
   "execution_count": 45,
   "metadata": {
    "collapsed": true
   },
   "outputs": [],
   "source": [
    "hidden_layer = np.dot(x,wh) + bh"
   ]
  },
  {
   "cell_type": "markdown",
   "metadata": {},
   "source": [
    "### Step 3: Perform non-linear transformation on hidden linear input\n",
    " hiddenlayer_activations = sigmoid(hidden_layer_input)"
   ]
  },
  {
   "cell_type": "code",
   "execution_count": 46,
   "metadata": {
    "collapsed": true
   },
   "outputs": [],
   "source": [
    "# Sigmoid Function\n",
    "import math\n",
    "def sigmoid(x):\n",
    "  return 1 / (1 + math.exp(-x))\n",
    "\n",
    "hidden_act = []"
   ]
  },
  {
   "cell_type": "code",
   "execution_count": 47,
   "metadata": {
    "collapsed": true
   },
   "outputs": [],
   "source": [
    "for i in range(0,3):\n",
    "    arr=[]\n",
    "    for j in range(0,3):\n",
    "        arr.append(sigmoid(hidden_layer[i][j]))\n",
    "    hidden_act.append(arr)\n",
    "hidden_act = np.array(hidden_act)"
   ]
  },
  {
   "cell_type": "markdown",
   "metadata": {},
   "source": [
    "### Step 4: Perform linear and non-linear transformation of hidden layer activation at output layer\n",
    "\n",
    "output_layer_input = matrix_dot_product (hiddenlayer_activations * wout ) + bout output = sigmoid(output_layer_input)"
   ]
  },
  {
   "cell_type": "code",
   "execution_count": 48,
   "metadata": {
    "collapsed": true
   },
   "outputs": [],
   "source": [
    "output_layer = np.dot(hidden_act,wout) +bout"
   ]
  },
  {
   "cell_type": "code",
   "execution_count": 49,
   "metadata": {
    "collapsed": true
   },
   "outputs": [],
   "source": [
    "output = np.empty([3,1])\n",
    "for i in range(0,3):\n",
    "    output[i,0]= sigmoid(output_layer[i,0])"
   ]
  },
  {
   "cell_type": "markdown",
   "metadata": {},
   "source": [
    "### Step 5: Calculate gradient of Error(E) at output layer\n",
    " E = y-output"
   ]
  },
  {
   "cell_type": "code",
   "execution_count": 50,
   "metadata": {
    "collapsed": true
   },
   "outputs": [],
   "source": [
    "Error = np.subtract(y,output)"
   ]
  },
  {
   "cell_type": "markdown",
   "metadata": {},
   "source": [
    "### Step 6: Compute slope at output and hidden layer\n",
    "\n",
    " Slope_output_layer= derivatives_sigmoid(output)\n",
    "\n",
    "Slope_hidden_layer = derivatives_sigmoid(hiddenlayer_activations)`"
   ]
  },
  {
   "cell_type": "code",
   "execution_count": 51,
   "metadata": {
    "collapsed": true
   },
   "outputs": [],
   "source": [
    "# derivative of Sigmoid function\n",
    "def d_sig(x):\n",
    "    return(x*(1-x))\n",
    "\n",
    "slope_output=np.empty([3,1])"
   ]
  },
  {
   "cell_type": "code",
   "execution_count": 52,
   "metadata": {},
   "outputs": [
    {
     "data": {
      "text/plain": [
       "array([[ 0.11123739,  0.20072014,  0.17040154],\n",
       "       [ 0.10852248,  0.18488417,  0.1384754 ],\n",
       "       [ 0.16920937,  0.23763049,  0.11790296]])"
      ]
     },
     "execution_count": 52,
     "metadata": {},
     "output_type": "execute_result"
    }
   ],
   "source": [
    "for i in range(0,3):\n",
    "    slope_output[i,0] = d_sig(output[i,0])\n",
    "slope_output\n",
    "\n",
    "slope_hidden=np.empty([3,3])\n",
    "for i in range(0,3):\n",
    "    for j in range(0,3):\n",
    "        slope_hidden[i,j] = d_sig(hidden_act[i,j])\n",
    "slope_hidden "
   ]
  },
  {
   "cell_type": "markdown",
   "metadata": {},
   "source": [
    "### Step 7: Compute delta at output layer\n",
    "\n",
    "d_output = E * slope_output_layer"
   ]
  },
  {
   "cell_type": "code",
   "execution_count": 53,
   "metadata": {},
   "outputs": [
    {
     "data": {
      "text/plain": [
       "array([[ 0.0479805 ],\n",
       "       [ 0.04613544],\n",
       "       [-0.14216749]])"
      ]
     },
     "execution_count": 53,
     "metadata": {},
     "output_type": "execute_result"
    }
   ],
   "source": [
    "d_output = slope_output*Error\n",
    "d_output"
   ]
  },
  {
   "cell_type": "code",
   "execution_count": 54,
   "metadata": {},
   "outputs": [
    {
     "data": {
      "text/plain": [
       "(3, 1)"
      ]
     },
     "execution_count": 54,
     "metadata": {},
     "output_type": "execute_result"
    }
   ],
   "source": [
    "wout.shape"
   ]
  },
  {
   "cell_type": "markdown",
   "metadata": {},
   "source": [
    "### Step 8: Calculate Error at hidden layer\n",
    "\n",
    " Error_at_hidden_layer = matrix_dot_product(d_output, wout.Transpose)\n",
    "\n"
   ]
  },
  {
   "cell_type": "code",
   "execution_count": 55,
   "metadata": {
    "collapsed": true
   },
   "outputs": [],
   "source": [
    "hidden_error = np.dot(d_output,np.transpose(wout))"
   ]
  },
  {
   "cell_type": "markdown",
   "metadata": {},
   "source": [
    "### Step 9: Compute delta at hidden layer\n",
    "\n",
    " d_hiddenlayer = Error_at_hidden_layer * slope_hidden_layer"
   ]
  },
  {
   "cell_type": "code",
   "execution_count": 56,
   "metadata": {
    "collapsed": true
   },
   "outputs": [],
   "source": [
    "d_hidden = hidden_error*slope_hidden"
   ]
  },
  {
   "cell_type": "code",
   "execution_count": 57,
   "metadata": {},
   "outputs": [
    {
     "data": {
      "text/plain": [
       "array([[ 0.00218139,  0.0022593 ,  0.00349403],\n",
       "       [ 0.00204631,  0.00200103,  0.00273021],\n",
       "       [-0.00983201, -0.00792539, -0.00716331]])"
      ]
     },
     "execution_count": 57,
     "metadata": {},
     "output_type": "execute_result"
    }
   ],
   "source": [
    "d_hidden"
   ]
  },
  {
   "cell_type": "markdown",
   "metadata": {},
   "source": [
    "### Step 10: Update weight at both output and hidden layer\n",
    "\n",
    " wout = wout + matrix_dot_product (hiddenlayer_activations.Transpose, d_output) * learning_rate\n",
    "\n",
    " wh = wh+ matrix_dot_product (X.Transpose,d_hiddenlayer) * learning_rate\n",
    "\n",
    " learning_rate is 0.1"
   ]
  },
  {
   "cell_type": "code",
   "execution_count": 58,
   "metadata": {
    "collapsed": true
   },
   "outputs": [],
   "source": [
    "learning_rate = 0.1\n",
    "wout = np.add(wout,np.dot(np.transpose(hidden_act),d_output)*learning_rate)\n",
    "wh = np.add(wh,np.dot(np.transpose(x),d_hidden)*learning_rate)"
   ]
  },
  {
   "cell_type": "markdown",
   "metadata": {},
   "source": [
    "### Step 11: Update biases at both output and hidden layer\n",
    "\n",
    " bh = bh + sum(d_hiddenlayer, axis=0) * learning_rate\n",
    " \n",
    " bout = bout + sum(d_output, axis=0)*learning_rate"
   ]
  },
  {
   "cell_type": "code",
   "execution_count": 59,
   "metadata": {
    "collapsed": true
   },
   "outputs": [],
   "source": [
    "bh = bh + np.sum(d_hidden)*learning_rate\n",
    "bout = bout + np.sum(d_output)*learning_rate"
   ]
  },
  {
   "cell_type": "markdown",
   "metadata": {},
   "source": [
    "### Output"
   ]
  },
  {
   "cell_type": "code",
   "execution_count": 60,
   "metadata": {},
   "outputs": [
    {
     "name": "stdout",
     "output_type": "stream",
     "text": [
      "[[1 0 1 0]\n",
      " [1 0 1 1]\n",
      " [0 1 0 1]]\n",
      "\n",
      " [[ 0.89740239  0.1960972   0.13689791]\n",
      " [ 0.64881107  0.21112556  0.87419239]\n",
      " [ 0.41903484  0.69065901  0.50890334]\n",
      " [ 0.03222606  0.17147235  0.33532872]]\n",
      "\n",
      " [[ 0.60671051  0.06743253  0.63255685]]\n",
      "\n",
      " [[ 1.92332305  0.95435752  1.2781341 ]\n",
      " [ 1.95632768  1.12642231  1.61390613]\n",
      " [ 1.29053025  0.45243626  1.84425844]]\n",
      "\n",
      " [[ 0.87250854  0.72199067  0.78213199]\n",
      " [ 0.87613497  0.75517805  0.83395299]\n",
      " [ 0.78423693  0.61121832  0.86345157]]\n",
      "\n",
      " [[ 0.40579114]\n",
      " [ 0.23285339]\n",
      " [ 0.42267971]]\n",
      "\n",
      " [[ 0.21485187]]\n",
      "\n",
      " [[ 0.74647222]\n",
      " [ 0.75237115]\n",
      " [ 0.74126868]]\n",
      "\n",
      " [[1]\n",
      " [1]\n",
      " [0]]\n",
      "\n",
      " [[ 0.25352778]\n",
      " [ 0.24762885]\n",
      " [-0.74126868]]\n"
     ]
    }
   ],
   "source": [
    "print(x)\n",
    "print(\"\\n\",wh)\n",
    "print(\"\\n\", bh)\n",
    "print(\"\\n\", hidden_layer)\n",
    "print(\"\\n\", hidden_act)\n",
    "print(\"\\n\", wout)\n",
    "print(\"\\n\", bout)\n",
    "print(\"\\n\", output)\n",
    "print(\"\\n\", y)\n",
    "print(\"\\n\", Error)"
   ]
  },
  {
   "cell_type": "code",
   "execution_count": 61,
   "metadata": {},
   "outputs": [
    {
     "name": "stdout",
     "output_type": "stream",
     "text": [
      "[[ 0.11123739  0.20072014  0.17040154]\n",
      " [ 0.10852248  0.18488417  0.1384754 ]\n",
      " [ 0.16920937  0.23763049  0.11790296]]\n",
      "\n",
      " [[ 0.01961021  0.01125597  0.02050471]\n",
      " [ 0.01885611  0.01082313  0.01971621]\n",
      " [-0.05810556 -0.03335175 -0.06075599]]\n",
      "\n",
      " [[ 0.18925145]\n",
      " [ 0.1863088 ]\n",
      " [ 0.19178942]]\n",
      "\n",
      " [[ 0.00218139  0.0022593   0.00349403]\n",
      " [ 0.00204631  0.00200103  0.00273021]\n",
      " [-0.00983201 -0.00792539 -0.00716331]]\n",
      "\n",
      " [[ 0.0479805 ]\n",
      " [ 0.04613544]\n",
      " [-0.14216749]]\n"
     ]
    }
   ],
   "source": [
    "print(slope_hidden)\n",
    "print(\"\\n\", hidden_error)\n",
    "print(\"\\n\", slope_output)\n",
    "print(\"\\n\", d_hidden)\n",
    "print(\"\\n\", d_output)\n",
    "\n"
   ]
  },
  {
   "cell_type": "code",
   "execution_count": null,
   "metadata": {
    "collapsed": true
   },
   "outputs": [],
   "source": []
  }
 ],
 "metadata": {
  "kernelspec": {
   "display_name": "Python 3",
   "language": "python",
   "name": "python3"
  },
  "language_info": {
   "codemirror_mode": {
    "name": "ipython",
    "version": 3
   },
   "file_extension": ".py",
   "mimetype": "text/x-python",
   "name": "python",
   "nbconvert_exporter": "python",
   "pygments_lexer": "ipython3",
   "version": "3.6.1"
  }
 },
 "nbformat": 4,
 "nbformat_minor": 2
}
